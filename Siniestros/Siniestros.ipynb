{
  "cells": [
    {
      "cell_type": "code",
      "execution_count": null,
      "metadata": {
        "colab": {
          "base_uri": "https://localhost:8080/"
        },
        "id": "ghEBcmJx6rp_",
        "outputId": "2a231e77-5d18-45f0-ccee-211418ef651a"
      },
      "outputs": [],
      "source": [
        "import pandas as pd\n",
        "import numpy as np\n",
        "import datetime\n",
        "import re\n",
        "from datetime import timedelta\n",
        "from datetime import date\n"
      ]
    },
    {
      "cell_type": "code",
      "execution_count": null,
      "metadata": {
        "id": "QeLCUQnYxit8"
      },
      "outputs": [],
      "source": [
        "# cargar los datos del archivo Excel\n",
        "df = pd.read_excel('/content/drive/MyDrive/Repositorio/FacturacionSSTT/Facturacion historica.xlsx', sheet_name='Repositorio FST', na_values=[0])\n",
        "\n",
        "nuevos_nombres = [\"oficina\",\"tipo_orden_trabajo\",\"numero_orden_trabajo\",\"tipo_trabajo\",\"numero_documento_venta\",\"fecha_venta\",\"numero_siniestro\",\"numero_orden\",\"numero_correlacion\",\"codigo_recepcionista\",\"agente_confirmo_7d\",\"fecha_apertura_orden_trabajo\",\"fecha_termino_orden_trabajo\",\"detalle_factura\",\"rut_cliente\",\"nombre_cliente\",\"patente\",\"marca\",\"modelo\",\"total_costo\",\"total_neto_mano_obra\",\"total_neto_repuestos\",\"total_neto_accesorios\",\"total_neto_lubricantes\",\"total_neto_materiales\",\"total_neto_otros\",\"total_neto_documento\",\"total_bruto_documento\",\"cantidad_litros_lubricantes\",\"forma_pago\",\"vin\",\"tipo_venta\",\"tipo_mantenimiento\",\"kilometros_vehiculo\",\"posee_mpp\",\"id_agente\",\"numero_presupuesto\", \"destinatario_kovcas\"]\n",
        "df.columns = nuevos_nombres \n",
        "\n",
        "df[\"numero_siniestro\"].fillna(0, inplace=True)\n",
        "\n",
        "\n",
        "# eliminar los registros donde la columna numero_siniestro es NaN o None\n",
        "df = df[df['numero_siniestro'].notna()]\n",
        "\n",
        "# convertir la columna numero_siniestro de tipo float a int\n",
        "df['numero_siniestro'] = df['numero_siniestro'].astype(int)\n",
        "\n",
        "df_ = df.copy()\n",
        "df.shape\n"
      ]
    },
    {
      "attachments": {},
      "cell_type": "markdown",
      "metadata": {
        "id": "XgB9cSwwoL1I"
      },
      "source": [
        "### PASOS PARA LA NORMALIZACION DE DATA"
      ]
    },
    {
      "cell_type": "code",
      "execution_count": null,
      "metadata": {
        "id": "8FrLs7dpyiRQ"
      },
      "outputs": [],
      "source": [
        "#Se crea columna contiene obd y se pasa a mayusculas lo que es detalle_factura\n",
        "df= df.assign(total_ingresos = ((df['total_neto_accesorios'] + df['total_neto_lubricantes'] + df['total_neto_materiales'] + df['total_neto_repuestos']) - df['total_costo']) + df['total_neto_mano_obra'])"
      ]
    },
    {
      "cell_type": "code",
      "execution_count": null,
      "metadata": {
        "id": "QIEl9mH4yiUf"
      },
      "outputs": [],
      "source": [
        "df['total_facturacion'] = df['total_neto_accesorios'] + df['total_neto_lubricantes'] + df['total_neto_materiales'] + df['total_neto_repuestos'] + df['total_neto_mano_obra']"
      ]
    },
    {
      "cell_type": "code",
      "execution_count": null,
      "metadata": {
        "id": "gmzpG9aIyiXM"
      },
      "outputs": [],
      "source": [
        "df['año_venta'] = pd.DatetimeIndex(df['fecha_venta']).year"
      ]
    },
    {
      "cell_type": "code",
      "execution_count": null,
      "metadata": {
        "id": "RSZ7Q35vyiZx"
      },
      "outputs": [],
      "source": [
        "df['mes_venta'] = pd.DatetimeIndex(df['fecha_venta']).month"
      ]
    },
    {
      "cell_type": "code",
      "execution_count": null,
      "metadata": {
        "id": "ZQ_-Z2jJyica"
      },
      "outputs": [],
      "source": [
        "df['detalle_factura'].fillna('N/A', inplace=True)\n",
        "\n",
        "df['contiene_obd'] = np.where(df['detalle_factura'].str.contains(\"OBD|ANTICLO\", na=False), 'SI', 'NO')"
      ]
    },
    {
      "cell_type": "code",
      "execution_count": null,
      "metadata": {
        "id": "y87Qo0UzyifF"
      },
      "outputs": [],
      "source": [
        "#Se Agrega La Columna Nota Credito\n",
        "df['nota_credito'] = np.where(df['total_neto_repuestos'] >= 0, 'SIN NC', 'CON NC')"
      ]
    },
    {
      "cell_type": "code",
      "execution_count": null,
      "metadata": {
        "id": "WntT24eQyih2"
      },
      "outputs": [],
      "source": [
        "df['oficina'] = df['oficina'].str.upper()\n",
        "def asignar_unidad_negocios(oficina):\n",
        "    if \"NISSAN\" in oficina:\n",
        "        return \"NISSAN\"\n",
        "    elif \"TOYOTA\" in oficina:\n",
        "        return \"TOYOTA\"\n",
        "    elif \"DYP\" in oficina:\n",
        "        return \"DYP\"\n",
        "    else:\n",
        "        return \"CHEVROLET\"\n",
        "\n",
        "df[\"unidad_negocios\"] = df[\"oficina\"].apply(asignar_unidad_negocios)"
      ]
    },
    {
      "cell_type": "code",
      "execution_count": null,
      "metadata": {
        "id": "PM7glSnIyikr"
      },
      "outputs": [],
      "source": [
        "#Agregar columna tipo cliente\n",
        "# df['tipo_cliente'] = df['nombre_cliente'].apply(lambda x: 'SEGURO' if 'SEGURO' in str(x) else 'GENERAL')\n",
        "\n",
        "df['tipo_cliente'] = df['nombre_cliente'].apply(lambda x: 'SEGURO' if ('SEGURO' in str(x) or 'ASEGURADORA' in str(x)) else 'GENERAL')\n"
      ]
    },
    {
      "cell_type": "code",
      "execution_count": null,
      "metadata": {
        "id": "QSq8tabxyinS"
      },
      "outputs": [],
      "source": [
        "#Cambiar tipificacion de acuerdo a condicion\n",
        "df.loc[df['posee_mpp'] == 'SI', 'tipo_trabajo'] = 'Mant. Prev.'"
      ]
    },
    {
      "cell_type": "code",
      "execution_count": null,
      "metadata": {
        "id": "EruBFhzNyiqC"
      },
      "outputs": [],
      "source": [
        "# Se re tipifica la columna Tipo Trabajo\n",
        "df['tipo_trabajo'] = df['tipo_trabajo'].replace([\"Acc. u otros\", \"Accesorios\", \"Corr.,Acc. u otros\"], \"CORRECTIVA\")\n",
        "df['tipo_trabajo'] = df['tipo_trabajo'].replace([\"Mant. Prev.\"], \"PREVENTIVA\")\n",
        "df['tipo_trabajo'] = df['tipo_trabajo'].replace([\"CRÉDITO\"], \"CREDITO\")\n",
        "df['tipo_trabajo'] = df['tipo_trabajo'].replace([\"GARANTÍA\"], \"GARANTIA\")"
      ]
    },
    {
      "cell_type": "code",
      "execution_count": null,
      "metadata": {
        "id": "5kODTVSfyisl"
      },
      "outputs": [],
      "source": [
        "# Se reemplan todos los Valores en la columna tiene_mpp de SI a NO en caso que el registro tenga MPP \n",
        "df.loc[df['contiene_obd'] == 'SI', 'posee_mpp'] = 'NO' "
      ]
    },
    {
      "cell_type": "code",
      "execution_count": null,
      "metadata": {
        "id": "J6hTHLyHyivM"
      },
      "outputs": [],
      "source": [
        "# Se reemplan todos los Valores en la columna tiene_mpp de SI a NO en caso que el registro tenga MPP \n",
        "# df.loc[df['contiene_obd'] == 'SI', 'posee_mpp'] = 'NO' \n",
        "\n",
        "# Se reemplan todos los Valores en la columna tiene_mpp de SI a NO en caso que el registro tenga MPP \n",
        "df.loc[df['contiene_obd'] == 'SI', 'tipo_trabajo'] = 'CORRECTIVA' "
      ]
    },
    {
      "cell_type": "code",
      "execution_count": null,
      "metadata": {
        "id": "4Rl2vzk3yixw"
      },
      "outputs": [],
      "source": [
        "#Se normaliza la data en la columna *Tipo Trabajo*\n",
        "df['tipo_trabajo'] = df['tipo_trabajo'].str.replace('Á', 'A').str.replace('É', 'E').str.replace('Í', 'I').str.replace('Ó', 'O').str.replace('Ú', 'U').str.upper()\n",
        "df['tipo_trabajo'] = df['tipo_trabajo'].replace(np.nan, 'sin_tipo_trabajo', regex=True)"
      ]
    },
    {
      "cell_type": "code",
      "execution_count": null,
      "metadata": {
        "id": "mtiUUQs-yi0t"
      },
      "outputs": [],
      "source": [
        "#Se normaliza la data en la columna *Tipo Trabajo*\n",
        "df['tipo_orden_trabajo'] = df['tipo_orden_trabajo'].str.replace('Á', 'A').str.replace('É', 'E').str.replace('Í', 'I').str.replace('Ó', 'O').str.replace('Ú', 'U').str.upper()\n",
        "df['tipo_orden_trabajo'] = df['tipo_orden_trabajo'].replace(np.nan, 'sin_orden_trabajo', regex=True)"
      ]
    },
    {
      "cell_type": "code",
      "execution_count": null,
      "metadata": {
        "id": "pDXYRJzdns3E"
      },
      "outputs": [],
      "source": [
        "# Se normaliza la data en la columna Tipo Orden Trabajo\n",
        "df['tipo_orden_trabajo'].fillna('N/A', inplace=True)\n",
        "df['tipo_orden_trabajo'] = df['tipo_orden_trabajo'].str.replace('Á', 'A').str.replace('É', 'E').str.replace('Í', 'I').str.replace('Ó', 'O').str.replace('Ú', 'U').str.upper()\n",
        "df['tipo_orden_trabajo'] = df['tipo_orden_trabajo'].replace(np.nan, 'sin_tipo_orden_trabajo', regex=True)"
      ]
    },
    {
      "cell_type": "code",
      "execution_count": null,
      "metadata": {
        "id": "d8OZ39GqntCv"
      },
      "outputs": [],
      "source": [
        "# Se genera una nueva columna con TIPO VENTA OT\n",
        "df[\"tipo_venta_ot\"] = np.where(df[\"tipo_venta\"].str.contains(re.compile(\"REPTOS|ANT.RPTO|CUP. MPP|RENTACAR|ANT.REPA|CHATARRA|GRUA|Deduc|CAFETERÍ|MISCELÁN\",re.IGNORECASE)), \"NO\", \"SI\")"
      ]
    },
    {
      "cell_type": "code",
      "execution_count": null,
      "metadata": {
        "id": "7ep_7MK-ntLC"
      },
      "outputs": [],
      "source": [
        "#Se Reemplaza los valores del tipo venta OT\n",
        "df['tipo_venta_ot'] = df['tipo_venta_ot'].replace({'SI': 'VENTAS CON OT', 'NO': 'OTRAS VENTAS'})"
      ]
    },
    {
      "cell_type": "code",
      "execution_count": null,
      "metadata": {
        "id": "IkdAbYxCn3D6"
      },
      "outputs": [],
      "source": [
        "#Se reemplaza los valores de la columna tipo Orden de Trabajo\n",
        "df['tipo_orden_trabajo'] = df['tipo_orden_trabajo'].replace({'SIN_TIPO_ORDEN_TRABAJO': 'OTRAS VENTAS'})"
      ]
    },
    {
      "cell_type": "code",
      "execution_count": null,
      "metadata": {
        "id": "TqvCNgjRn3Nn"
      },
      "outputs": [],
      "source": [
        "df['tipo_orden_trabajo'].replace('SIN_ORDEN_TRABAJO', 'MISCELANEA', inplace=True)\n",
        "df['tipo_trabajo'].replace('sin_tipo_trabajo', 'MISCELANEA', inplace=True)"
      ]
    },
    {
      "cell_type": "code",
      "execution_count": null,
      "metadata": {
        "id": "kTdt8hzsn8xV"
      },
      "outputs": [],
      "source": [
        "\n",
        "df.loc[(df['contiene_obd'] == 'SI') & ((df['tipo_orden_trabajo'] == 'GARANTIA') | (df['tipo_orden_trabajo'] == 'PREENTREGA')), 'tipo_orden_trabajo'] = 'MECANICA' "
      ]
    },
    {
      "cell_type": "code",
      "execution_count": null,
      "metadata": {
        "id": "zqg5VFLgj_NH"
      },
      "outputs": [],
      "source": [
        "#Contar OT\n",
        "df['contar_ot'] = np.where(df['tipo_venta_ot'] == 'VENTAS CON OT', 1, 0)\n"
      ]
    },
    {
      "cell_type": "code",
      "execution_count": null,
      "metadata": {
        "id": "l1Mp1XRH_lZd"
      },
      "outputs": [],
      "source": [
        "df['vin'] = df['vin'].astype(str)\n",
        "\n",
        "def clean_vin(vin):\n",
        "    if len(vin) != 17:\n",
        "        return ''\n",
        "    return vin\n",
        "\n",
        "df['vin'] = df['vin'].apply(clean_vin)"
      ]
    },
    {
      "cell_type": "code",
      "execution_count": null,
      "metadata": {
        "id": "TcxdMDDC_e3c"
      },
      "outputs": [],
      "source": [
        "df['patente'] = df['patente'].astype(str)\n",
        "\n",
        "def clean_patente(patente):\n",
        "    if len(patente) != 7:\n",
        "        return ''\n",
        "    return patente\n",
        "\n",
        "df['patente'] = df['patente'].apply(clean_patente)"
      ]
    },
    {
      "cell_type": "code",
      "execution_count": null,
      "metadata": {
        "id": "QpxXgMwmDni2"
      },
      "outputs": [],
      "source": [
        "df['vin_patente'] = np.where(df['vin'] == \"\", df['patente'], df['vin'])"
      ]
    },
    {
      "cell_type": "code",
      "execution_count": null,
      "metadata": {
        "colab": {
          "base_uri": "https://localhost:8080/"
        },
        "id": "qCflk3Qb5udl",
        "outputId": "47b75e9f-9e2f-4294-d692-eaa4ac1d61be"
      },
      "outputs": [],
      "source": [
        "df['numero_siniestro'] = df['numero_siniestro'].astype(str)\n",
        "\n",
        "df = df[~df['numero_siniestro'].astype(str).str.contains('^0$')]\n",
        "\n",
        "df['siniestro_patente'] = df['numero_siniestro'].astype(str) + df['patente']"
      ]
    },
    {
      "attachments": {},
      "cell_type": "markdown",
      "metadata": {
        "id": "ZwqM7FvfHOMD"
      },
      "source": [
        "### SEGMENTAR POR SINIESTRO"
      ]
    },
    {
      "cell_type": "code",
      "execution_count": null,
      "metadata": {
        "colab": {
          "base_uri": "https://localhost:8080/"
        },
        "id": "QjsU5leg0dYS",
        "outputId": "bbb35bf4-d7b5-42d4-8400-dfcda1a3afb6"
      },
      "outputs": [],
      "source": [
        "\n",
        "# Filtrar los registros con tipo_cliente igual a \"SEGURO\" o \"GENERAL\"\n",
        "df_filtrado = df[df.tipo_cliente.isin([\"SEGURO\", \"GENERAL\"])]\n",
        "\n",
        "# Convertir la columna fecha_venta a tipo datetime\n",
        "df_filtrado['fecha_venta'] = pd.to_datetime(df_filtrado['fecha_venta'])\n",
        "\n",
        "# Ordenar los registros por siniestro_patente y fecha_venta descendente\n",
        "df_filtrado = df_filtrado.sort_values(by=['siniestro_patente', 'fecha_venta'], ascending=[True, False])\n",
        "\n",
        "# Mantener todos los registros con el mismo siniestro_patente\n",
        "df_agrupado = df_filtrado.groupby('siniestro_patente').apply(lambda x: x)\n",
        "\n",
        "\n",
        "\n",
        "df_agrupado[['total_ingresos', 'total_facturacion', 'total_costo', 'total_neto_mano_obra', 'total_neto_repuestos', 'total_neto_accesorios', 'total_neto_lubricantes', 'total_neto_materiales', 'total_neto_otros', 'total_neto_documento', 'total_bruto_documento']] = df_agrupado[['total_ingresos', 'total_facturacion', 'total_costo', 'total_neto_mano_obra', 'total_neto_repuestos', 'total_neto_accesorios', 'total_neto_lubricantes', 'total_neto_materiales', 'total_neto_otros', 'total_neto_documento', 'total_bruto_documento']].apply(pd.to_numeric)\n",
        "\n",
        "df_agrupado[['total_ingresos', 'total_facturacion', 'total_costo', 'total_neto_mano_obra', 'total_neto_repuestos', 'total_neto_accesorios', 'total_neto_lubricantes', 'total_neto_materiales', 'total_neto_otros', 'total_neto_documento', 'total_bruto_documento']] = df_agrupado.groupby('siniestro_patente')[['total_ingresos', 'total_facturacion', 'total_costo', 'total_neto_mano_obra', 'total_neto_repuestos', 'total_neto_accesorios', 'total_neto_lubricantes', 'total_neto_materiales', 'total_neto_otros', 'total_neto_documento', 'total_bruto_documento']].transform('sum')\n",
        "\n",
        "\n",
        "\n",
        "# Seleccionar el registro con tipo_cliente igual a \"SEGURO\" y la fecha_venta más reciente\n",
        "df_agrupado = df_agrupado[(df_agrupado.tipo_cliente == 'SEGURO')].sort_values(by=['siniestro_patente', 'fecha_venta'], ascending=[True, False]).drop_duplicates(subset='siniestro_patente', keep='first')\n",
        "\n",
        "# Seleccionar las columnas necesarias\n",
        "df_agrupado = df_agrupado[['oficina', 'tipo_orden_trabajo', 'tipo_trabajo', 'fecha_venta', 'numero_siniestro', 'numero_orden', 'fecha_apertura_orden_trabajo', 'fecha_termino_orden_trabajo', 'rut_cliente', 'nombre_cliente', 'patente', 'marca', 'modelo', 'forma_pago', 'vin', 'tipo_mantenimiento', 'posee_mpp', 'contiene_obd', 'nota_credito', 'unidad_negocios', 'tipo_cliente', 'contar_ot', 'vin_patente', 'siniestro_patente', 'total_ingresos', 'total_facturacion', 'total_costo', 'total_neto_mano_obra', 'total_neto_repuestos', 'total_neto_accesorios', 'total_neto_lubricantes', 'total_neto_materiales', 'total_neto_otros', 'total_neto_documento', 'total_bruto_documento']]\n"
      ]
    },
    {
      "cell_type": "code",
      "execution_count": null,
      "metadata": {
        "colab": {
          "base_uri": "https://localhost:8080/"
        },
        "id": "ShlHWDIr8DUG",
        "outputId": "2bc44c0b-1a3e-45a2-af49-a1104ce84b10"
      },
      "outputs": [],
      "source": [
        "\n",
        "df_agrupado_general = df_filtrado.groupby('siniestro_patente').apply(lambda x: x)\n",
        "\n",
        "\n",
        "\n",
        "df_agrupado_general[['total_ingresos', 'total_facturacion', 'total_costo', 'total_neto_mano_obra', 'total_neto_repuestos', 'total_neto_accesorios', 'total_neto_lubricantes', 'total_neto_materiales', 'total_neto_otros', 'total_neto_documento', 'total_bruto_documento']] = df_agrupado_general[['total_ingresos', 'total_facturacion', 'total_costo', 'total_neto_mano_obra', 'total_neto_repuestos', 'total_neto_accesorios', 'total_neto_lubricantes', 'total_neto_materiales', 'total_neto_otros', 'total_neto_documento', 'total_bruto_documento']].apply(pd.to_numeric)\n",
        "\n",
        "df_agrupado_general[['total_ingresos', 'total_facturacion', 'total_costo', 'total_neto_mano_obra', 'total_neto_repuestos', 'total_neto_accesorios', 'total_neto_lubricantes', 'total_neto_materiales', 'total_neto_otros', 'total_neto_documento', 'total_bruto_documento']] = df_agrupado_general.groupby('siniestro_patente')[['total_ingresos', 'total_facturacion', 'total_costo', 'total_neto_mano_obra', 'total_neto_repuestos', 'total_neto_accesorios', 'total_neto_lubricantes', 'total_neto_materiales', 'total_neto_otros', 'total_neto_documento', 'total_bruto_documento']].transform('sum')\n",
        "\n",
        "\n",
        "\n",
        "# Seleccionar el registro con tipo_cliente igual a \"SEGURO\" y la fecha_venta más reciente\n",
        "df_agrupado_general = df_agrupado_general[(df_agrupado_general.tipo_cliente == 'GENERAL')].sort_values(by=['siniestro_patente', 'fecha_venta'], ascending=[True, False]).drop_duplicates(subset='siniestro_patente', keep='first')\n",
        "\n",
        "# Seleccionar las columnas necesarias\n",
        "df_agrupado_general = df_agrupado_general[['oficina', 'tipo_orden_trabajo', 'tipo_trabajo', 'fecha_venta', 'numero_siniestro', 'numero_orden', 'fecha_apertura_orden_trabajo', 'fecha_termino_orden_trabajo', 'rut_cliente', 'nombre_cliente', 'patente', 'marca', 'modelo', 'forma_pago', 'vin', 'tipo_mantenimiento', 'posee_mpp', 'contiene_obd', 'nota_credito', 'unidad_negocios', 'tipo_cliente', 'contar_ot', 'vin_patente', 'siniestro_patente', 'total_ingresos', 'total_facturacion', 'total_costo', 'total_neto_mano_obra', 'total_neto_repuestos', 'total_neto_accesorios', 'total_neto_lubricantes', 'total_neto_materiales', 'total_neto_otros', 'total_neto_documento', 'total_bruto_documento']]\n"
      ]
    },
    {
      "cell_type": "code",
      "execution_count": null,
      "metadata": {
        "id": "-Aoi8iLs8b6z"
      },
      "outputs": [],
      "source": [
        "df_siniestros = pd.concat([df_agrupado, df_agrupado_general], ignore_index=True)\n",
        "df_siniestros.tipo_cliente.sample(5)\n",
        "df_siniestros.to_excel(\"SiniestroSSTT.xlsx\", index=False)"
      ]
    }
  ],
  "metadata": {
    "colab": {
      "provenance": []
    },
    "kernelspec": {
      "display_name": "Python 3",
      "name": "python3"
    },
    "language_info": {
      "name": "python"
    }
  },
  "nbformat": 4,
  "nbformat_minor": 0
}

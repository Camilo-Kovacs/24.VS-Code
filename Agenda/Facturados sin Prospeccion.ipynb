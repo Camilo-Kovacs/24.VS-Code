{
  "cells": [
    {
      "attachments": {},
      "cell_type": "markdown",
      "metadata": {
        "id": "h8chXjwl4x7P"
      },
      "source": [
        "## Normalizar Columnas de la Agenda"
      ]
    },
    {
      "cell_type": "code",
      "execution_count": 29,
      "metadata": {
        "colab": {
          "base_uri": "https://localhost:8080/"
        },
        "id": "nBDz5evE4wxe",
        "outputId": "8193412b-29b3-411d-cca1-77b165833316"
      },
      "outputs": [],
      "source": [
        "import pandas as pd\n",
        "import numpy as np\n",
        "import datetime\n",
        "import re\n",
        "from datetime import timedelta\n",
        "from datetime import date"
      ]
    },
    {
      "cell_type": "code",
      "execution_count": 23,
      "metadata": {
        "id": "zxXu11Z25S48"
      },
      "outputs": [],
      "source": [
        "archivo_excel = \"C:/Users/contr/OneDrive/Desarrollo Diario/00. Matrices BDD/02. Agendamiento\\Repositorio 2 Años/AgendaSegmentacionCiclos.xlsx\"\n",
        "\n",
        "nombre_hoja = 'PrimerCiclo'\n",
        "\n",
        "# Lee el archivo de Excel en un DataFrame de pandas\n",
        "df = pd.read_excel(archivo_excel, sheet_name=nombre_hoja)"
      ]
    },
    {
      "attachments": {},
      "cell_type": "markdown",
      "metadata": {
        "id": "7nl-twI9DNuE"
      },
      "source": [
        "## Normalizar la Data (Agenda)"
      ]
    },
    {
      "cell_type": "code",
      "execution_count": 11,
      "metadata": {
        "id": "B7mSJ_WPARWo"
      },
      "outputs": [],
      "source": [
        "nuevos_nombres = [\"fecha_reserva\",\"marca\",\"trabajo_agenda\",\"patente\",\"box\",\"trabajo\",\"idr\",\"detalle\",\"submodelo\",\"teleoperador_7d\",\"oficina\",\"fecha_estado\",\"canal\",\"estado\",\"vigencia\",\"teleoperador_agendo\",\"rut_cliente\",\"nombre_cliente\",\"fono_casa_cliente\",\"fono_oficina_cliente\",\"fono_celular_cliente\",\"mail_cliente\",\"vin\",\"oficina_idr\",\"patente_idr\",\"ciclo\"]\n",
        "df.columns = nuevos_nombres"
      ]
    },
    {
      "cell_type": "code",
      "execution_count": 12,
      "metadata": {
        "id": "T4AaonMC_qGm"
      },
      "outputs": [],
      "source": [
        "df = df.astype(str)\n",
        "df[\"fecha_reserva\"] = pd.to_datetime(df[\"fecha_reserva\"], format=\"%Y-%m-%d\")\n",
        "df[\"fecha_estado\"] = pd.to_datetime(df[\"fecha_estado\"], format=\"%Y-%m-%d\")"
      ]
    },
    {
      "cell_type": "code",
      "execution_count": 13,
      "metadata": {
        "id": "QfHFI8V5dM2Z"
      },
      "outputs": [],
      "source": [
        "df['vin'] = df['vin'].str.replace('O', '0')"
      ]
    },
    {
      "cell_type": "code",
      "execution_count": 14,
      "metadata": {
        "id": "IUiPqO9q9o8b"
      },
      "outputs": [],
      "source": [
        "df['vin'] = df['vin'].astype(str)\n",
        "\n",
        "def clean_vin(vin):\n",
        "    if len(vin) != 17:\n",
        "        return ''\n",
        "    return vin\n",
        "\n",
        "df['vin'] = df['vin'].apply(clean_vin)"
      ]
    },
    {
      "cell_type": "code",
      "execution_count": 15,
      "metadata": {
        "id": "PGsXk2-9-W9M"
      },
      "outputs": [],
      "source": [
        "df['patente'] = df['patente'].astype(str)\n",
        "\n",
        "def clean_patente(patente):\n",
        "    if len(patente) != 7:\n",
        "        return ''\n",
        "    return patente\n",
        "\n",
        "df['patente'] = df['patente'].apply(clean_patente)"
      ]
    },
    {
      "cell_type": "code",
      "execution_count": 16,
      "metadata": {
        "id": "goN2Udf7DtJ8"
      },
      "outputs": [],
      "source": [
        "df.replace(\"\", np.nan, inplace=True)\n",
        "#df['vin'] = df.groupby('patente')['vin'].transform(lambda x: x.fillna(method='ffill').fillna(method='bfill'))"
      ]
    },
    {
      "cell_type": "code",
      "execution_count": 17,
      "metadata": {
        "id": "czaQiHacaDpD"
      },
      "outputs": [],
      "source": [
        "##ESTE ES\n",
        "#df.replace(\"\", np.nan, inplace=True)\n",
        "df['vin'] = df.sort_values('fecha_reserva', ascending=False).groupby('patente')['vin'].transform('first')"
      ]
    },
    {
      "cell_type": "code",
      "execution_count": 18,
      "metadata": {
        "id": "6ZMofWJGDp8R"
      },
      "outputs": [],
      "source": [
        "df['vin_patente'] = np.where(df['vin'] == \"\", df['patente'], df['vin'])"
      ]
    },
    {
      "cell_type": "code",
      "execution_count": 19,
      "metadata": {
        "id": "vZyMzSZEP_9-"
      },
      "outputs": [],
      "source": [
        "df['oficina'] = df['oficina'].str.upper()\n",
        "def asignar_unidad_negocios(oficina):\n",
        "    if \"NISSAN\" in oficina:\n",
        "        return \"NISSAN\"\n",
        "    elif \"TOYOTA\" in oficina:\n",
        "        return \"TOYOTA\"\n",
        "    elif \"DYP\" in oficina:\n",
        "        return \"DYP\"\n",
        "    else:\n",
        "        return \"CHEVROLET\"\n",
        "\n",
        "df[\"unidad_negocios\"] = df[\"oficina\"].apply(asignar_unidad_negocios)"
      ]
    },
    {
      "cell_type": "code",
      "execution_count": 20,
      "metadata": {
        "id": "iN08f9YDaEZp"
      },
      "outputs": [],
      "source": [
        "\n",
        "# Convertimos la columna 'fecha_reserva' a tipo datetime\n",
        "df['fecha_reserva'] = pd.to_datetime(df['fecha_reserva'], format='%Y-%m-%d')\n",
        "\n",
        "# Calculamos la fecha actual\n",
        "today = pd.Timestamp.today()\n",
        "\n",
        "# Agregamos una nueva columna 'ciclo'\n",
        "df['ciclo'] = pd.cut(\n",
        "    x=(today - df['fecha_reserva']).dt.days / 30,  # Calculamos la diferencia en meses\n",
        "    bins=[-float('inf'), 0, 9, 18, 27, float('inf')],  # Definimos los límites de cada ciclo\n",
        "    labels=['Ciclo 0', 'Primer Ciclo', 'Segundo Ciclo', 'Tercer Ciclo', 'Cuarto Ciclo']  # Definimos las etiquetas de cada ciclo\n",
        ")\n",
        "\n",
        "# Agregamos una condición para los casos en que la fecha de reserva es posterior a la fecha actual\n",
        "df.loc[df['fecha_reserva'] > today, 'ciclo'] = 'Ciclo 0'\n"
      ]
    },
    {
      "cell_type": "code",
      "execution_count": 21,
      "metadata": {
        "id": "Sh9_ks0RE8w0"
      },
      "outputs": [],
      "source": [
        "df.sort_values(\"fecha_reserva\", ascending=False, inplace=True)\n",
        "df_ultimoEstado = df.groupby(\"vin_patente\").first()\n",
        "df_ultimoEstado = df_ultimoEstado.astype(str)\n",
        "df_ultimoEstado[\"fecha_reserva\"] = pd.to_datetime(df_ultimoEstado[\"fecha_reserva\"], format=\"%Y-%m-%d\")\n",
        "df_ultimoEstado[\"fecha_estado\"] = pd.to_datetime(df_ultimoEstado[\"fecha_estado\"], format=\"%Y-%m-%d\")\n",
        "df_ultimoEstado.to_excel(\"AgendaCortaUltimoEstado.xlsx\", index=False)\n",
        "df.to_excel(\"AgendaCortaALL.xlsx\", index=False)"
      ]
    },
    {
      "cell_type": "code",
      "execution_count": 22,
      "metadata": {
        "id": "zN8mU-brrMmS"
      },
      "outputs": [],
      "source": [
        "import openpyxl\n",
        "from openpyxl.utils.dataframe import dataframe_to_rows\n",
        "\n",
        "def to_excel_with_date_formatting(df, wb, sheet_name, date_format=\"yyyy-mm-dd\", index=False):\n",
        "    ws = wb.create_sheet(sheet_name)\n",
        "\n",
        "    rows = dataframe_to_rows(df, index=index, header=True)\n",
        "    for r_idx, row in enumerate(rows, 1):\n",
        "        for c_idx, value in enumerate(row, 1):\n",
        "            _ = ws.cell(row=r_idx, column=c_idx, value=value)\n",
        "\n",
        "            if isinstance(value, pd.Timestamp):\n",
        "                ws.cell(row=r_idx, column=c_idx).number_format = date_format\n",
        "\n",
        "    if not index:\n",
        "        ws.column_dimensions['A'].visible = False\n",
        "\n",
        "        \n",
        "def clean_sheet_name(sheet_name):\n",
        "    invalid_chars = '[]:*?/\\\\'\n",
        "    for char in invalid_chars:\n",
        "        sheet_name = sheet_name.replace(char, '')\n",
        "    return sheet_name[:31]  # El límite de caracteres para el nombre de una hoja en Excel es de 31\n",
        "\n",
        "\n",
        "df_filtered = df_ultimoEstado[\n",
        "    (df_ultimoEstado[\"trabajo_agenda\"].isin([\"PREVENTIVO\", \"CORRECTIVO\", \"GARANTIA\"])) &\n",
        "    (df_ultimoEstado[\"estado\"].isin([\"FACTURADO\", \"ENTREGADO\"]))\n",
        "]\n",
        "\n",
        "\n",
        "for unidad in df_filtered[\"unidad_negocios\"].unique():\n",
        "    df_unidad = df_filtered[df_filtered[\"unidad_negocios\"] == unidad]\n",
        "\n",
        "    wb = openpyxl.Workbook()\n",
        "    wb.remove(wb.active)  # Elimina la hoja predeterminada\n",
        "    sheet_names = set()\n",
        "\n",
        "\n",
        "\n",
        "    for oficina in df_unidad[\"oficina\"].unique():\n",
        "        df_oficina = df_unidad[df_unidad[\"oficina\"] == oficina]\n",
        "\n",
        "        sheet_name = f\"{oficina}\"\n",
        "        cleaned_sheet_name = clean_sheet_name(sheet_name)\n",
        "\n",
        "        counter = 1\n",
        "        unique_sheet_name = cleaned_sheet_name\n",
        "        while unique_sheet_name in sheet_names:\n",
        "            unique_sheet_name = f\"{cleaned_sheet_name}_{counter}\"\n",
        "            counter += 1\n",
        "\n",
        "        sheet_names.add(unique_sheet_name)\n",
        "\n",
        "        # Ordenar el DataFrame y crear una nueva copia\n",
        "        df_oficina = df_oficina.sort_values(by=\"fecha_reserva\", ascending=False)\n",
        "\n",
        "        # Utilice la función personalizada para guardar el DataFrame con formato de fecha\n",
        "        to_excel_with_date_formatting(df_oficina, wb, unique_sheet_name, date_format=\"dd-mm-yyyy\", index=False)\n",
        "\n",
        "    # Guardar el archivo de Excel\n",
        "    wb.save(f\"AgendaCortaUltimoEstado_{unidad}.xlsx\")\n"
      ]
    }
  ],
  "metadata": {
    "colab": {
      "provenance": []
    },
    "kernelspec": {
      "display_name": "Python 3",
      "name": "python3"
    },
    "language_info": {
      "codemirror_mode": {
        "name": "ipython",
        "version": 3
      },
      "file_extension": ".py",
      "mimetype": "text/x-python",
      "name": "python",
      "nbconvert_exporter": "python",
      "pygments_lexer": "ipython3",
      "version": "3.9.12"
    }
  },
  "nbformat": 4,
  "nbformat_minor": 0
}

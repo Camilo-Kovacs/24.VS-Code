{
  "cells": [
    {
      "cell_type": "code",
      "execution_count": 1,
      "metadata": {
        "colab": {
          "base_uri": "https://localhost:8080/"
        },
        "id": "0Irli36pbFOp",
        "outputId": "fc46e4f8-1a6a-4720-eb55-63e2397841e2"
      },
      "outputs": [],
      "source": [
        "import pandas as pd\n",
        "import numpy as np\n",
        "import datetime\n",
        "import re\n",
        "from datetime import timedelta\n",
        "from datetime import date"
      ]
    },
    {
      "attachments": {},
      "cell_type": "markdown",
      "metadata": {
        "id": "oGNSYj0yCfBC"
      },
      "source": [
        "## Carga de DATAFRAMES"
      ]
    },
    {
      "cell_type": "code",
      "execution_count": 2,
      "metadata": {},
      "outputs": [],
      "source": [
        "archivo_excel = \"C:/Users/contr/OneDrive/Desarrollo Diario/13. Onstar/Onstar.xlsx\"\n",
        "nombre_hoja = 'Onstar'\n",
        "df = pd.read_excel(archivo_excel, sheet_name=nombre_hoja)"
      ]
    },
    {
      "cell_type": "code",
      "execution_count": 3,
      "metadata": {},
      "outputs": [],
      "source": [
        "archivo_excel = \"C:/Users/contr/OneDrive/Desarrollo Diario/24.VS Code/AgendaLarga/UltimoEstadoAgendaLargaALL.xlsx\"\n",
        "nombre_hoja = 'Sheet1'\n",
        "df_agenda = pd.read_excel(archivo_excel, sheet_name=nombre_hoja)"
      ]
    },
    {
      "cell_type": "code",
      "execution_count": 4,
      "metadata": {},
      "outputs": [],
      "source": [
        "archivo_excel = \"C:/Users/contr/OneDrive/Desarrollo Diario/24.VS Code/Facturacion/UltimoEstadoSSTT.xlsx\"\n",
        "nombre_hoja = 'Sheet1'\n",
        "df_sstt = pd.read_excel(archivo_excel, sheet_name=nombre_hoja)"
      ]
    },
    {
      "cell_type": "code",
      "execution_count": 5,
      "metadata": {},
      "outputs": [],
      "source": [
        "archivo_excel = \"C:/Users/contr/OneDrive/Desarrollo Diario/24.VS Code/Libromatico/UltimoRegistroLibrmaticoALL.xlsx\"\n",
        "nombre_hoja = 'Sheet1'\n",
        "df_libromatico = pd.read_excel(archivo_excel, sheet_name=nombre_hoja)"
      ]
    },
    {
      "attachments": {},
      "cell_type": "markdown",
      "metadata": {
        "id": "DpgSXzLgkR93"
      },
      "source": [
        "## Normalizacion de la data"
      ]
    },
    {
      "cell_type": "code",
      "execution_count": 6,
      "metadata": {
        "id": "vDRuph9Dftoq"
      },
      "outputs": [],
      "source": [
        "nuevos_nombres = [\"make\",\"model_year\",\"model\",\"vin\",\"patente_onstar\",\"last_report\",\"customer\",\"errors\",\"warnings\",\"odmeter\",\"total_fuel_usage\",\"avg_fuel_usage\",\"tags\",\"odometro\",\"rango\"]\n",
        "df.columns = nuevos_nombres"
      ]
    },
    {
      "cell_type": "code",
      "execution_count": 7,
      "metadata": {
        "id": "2wrmjc3TnjN8"
      },
      "outputs": [],
      "source": [
        "df = df.astype(str)\n",
        "df[\"last_report\"] = pd.to_datetime(df[\"last_report\"], format=\"%Y-%m-%d\")"
      ]
    },
    {
      "attachments": {},
      "cell_type": "markdown",
      "metadata": {
        "id": "y0RQ9LWnkhYF"
      },
      "source": [
        "## Union Onstar con AgendaALL"
      ]
    },
    {
      "cell_type": "code",
      "execution_count": 8,
      "metadata": {
        "id": "WcqhFd1uCZ0b"
      },
      "outputs": [],
      "source": [
        "df_merge = pd.merge(pd.merge(pd.merge(df, df_agenda, on='vin', how='left'), df_sstt, on='vin', how='left'), df_libromatico, on='vin', how='left')\n"
      ]
    },
    {
      "cell_type": "code",
      "execution_count": 9,
      "metadata": {
        "id": "Hzfd2whK7N__"
      },
      "outputs": [],
      "source": [
        "df_merge = df_merge[['vin', 'patente_onstar', 'model', 'model_year','last_report', 'odometro','rango',\n",
        "                     'fecha_reserva', 'trabajo_agenda', 'patente_x', 'trabajo', 'estado', 'vigencia','ciclo',\n",
        "                      'oficina_y','patente_y','tipo_trabajo', 'fecha_venta_x', 'ultima_mantencion_y', 'ultima_fecha_y',\n",
        "                      'oficina','patente_consolidado', 'modelo_y','categoria','rut_cliente','cliente_2', 'movil', 'fono', 'fono_2', 'email']]\n"
      ]
    },
    {
      "cell_type": "code",
      "execution_count": 10,
      "metadata": {
        "id": "L9036zTzaqYl"
      },
      "outputs": [],
      "source": [
        "df_merge['patente_onstar'] = df_merge['patente_onstar'].replace('[^a-zA-Z0-9]', '', regex=True)  # Eliminar caracteres no deseados\n",
        "df_merge['patente_onstar'] = df_merge['patente_onstar'].str.strip()  # Eliminar espacios en blanco\n",
        "df_merge['patente_onstar'] = df_merge['patente_onstar'].str.upper()  # Convertir a mayúsculas\n"
      ]
    },
    {
      "cell_type": "code",
      "execution_count": 11,
      "metadata": {
        "id": "tTBOpW1edCcX"
      },
      "outputs": [],
      "source": [
        "conditions = [    df_merge['patente_consolidado'].notnull() & (df_merge['patente_consolidado'] != 'nan') & (df_merge['patente_consolidado'] != 'None') & (df_merge['patente_consolidado'] != 'Registra Cliente'),  # si patente_consolidado no es None ni NaN ni una cadena vacía ni 'Registra Cliente'\n",
        "    df_merge['patente_onstar'].notnull() & (df_merge['patente_onstar'] != 'NAN') & (df_merge['patente_onstar'] != '.'),           # si patente_onstar no es None ni NaN ni una cadena vacía\n",
        "    df_merge['patente_x'].notnull() & (df_merge['patente_x'] != 'nan') & (df_merge['patente_x'] != 'None'),                     # si patente_x no es None ni NaN ni una cadena vacía\n",
        "    df_merge['patente_y'].notnull() & (df_merge['patente_y'] != 'nan') & (df_merge['patente_y'] != 'None'),                     # si patente_y no es None ni NaN ni una cadena vacía\n",
        "]\n",
        "choices = [    df_merge['patente_consolidado'],    # asignar los valores de patente_consolidado\n",
        "    df_merge['patente_onstar'],         # asignar los valores de patente_onstar\n",
        "    df_merge['patente_x'],              # asignar los valores de patente_x\n",
        "    df_merge['patente_y'],              # asignar los valores de patente_y\n",
        "]\n",
        "\n",
        "df_merge.loc[:, 'patente_all'] = np.select(conditions, choices, default=None)\n"
      ]
    },
    {
      "cell_type": "code",
      "execution_count": 12,
      "metadata": {
        "id": "eFiyaVIBzp1u"
      },
      "outputs": [],
      "source": [
        "# Aquí se reemplazan los valores faltantes y infinitos en la columna 'movil'\n",
        "df_merge['movil'].replace([np.inf, -np.inf], np.nan, inplace=True)\n",
        "df_merge['movil'].fillna(value=0, inplace=True)\n",
        "\n",
        "# Aquí se convierte la columna 'movil' de flotantes a enteros y se elimina el \".0\"\n",
        "df_merge['movil'] = df_merge['movil'].astype(int)\n",
        "\n",
        "# Aquí se imprime el dataframe modificado\n",
        "#print(df_merge)\n"
      ]
    },
    {
      "cell_type": "code",
      "execution_count": 13,
      "metadata": {
        "id": "Evzih5n2iOjl"
      },
      "outputs": [],
      "source": [
        "# Aquí se reemplazan los valores faltantes y infinitos en las columnas 'fono', 'fono_2', 'ultima_mantencion_y' y 'movil'\n",
        "df_merge[['fono', 'fono_2', 'ultima_mantencion_y', 'movil']] = df_merge[['fono', 'fono_2', 'ultima_mantencion_y', 'movil']].replace([np.inf, -np.inf], np.nan)\n",
        "df_merge[['fono', 'fono_2', 'ultima_mantencion_y', 'movil']] = df_merge[['fono', 'fono_2', 'ultima_mantencion_y', 'movil']].fillna(value=0)\n",
        "\n",
        "# Aquí se convierten las columnas 'fono', 'fono_2', 'ultima_mantencion_y' y 'movil' de flotantes a enteros y se eliminan los \".0\"\n",
        "df_merge[['fono', 'fono_2', 'ultima_mantencion_y', 'movil']] = df_merge[['fono', 'fono_2', 'ultima_mantencion_y', 'movil']].astype(int)\n",
        "\n",
        "# Aquí se imprime el dataframe modificado\n",
        "#print(df_merge)\n"
      ]
    },
    {
      "cell_type": "code",
      "execution_count": 14,
      "metadata": {
        "id": "Lg0rrfir0ONL"
      },
      "outputs": [],
      "source": [
        "df_merge = df_merge.astype(str)\n",
        "\n",
        "\n",
        "# Aquí se reemplazan los valores faltantes y infinitos en las columnas 'fono', 'fono_2', 'ultima_mantencion_y' y 'movil'\n",
        "df_merge[['fono', 'fono_2', 'ultima_mantencion_y', 'movil']] = df_merge[['fono', 'fono_2', 'ultima_mantencion_y', 'movil']].replace([np.inf, -np.inf], np.nan)\n",
        "df_merge[['fono', 'fono_2', 'ultima_mantencion_y', 'movil']] = df_merge[['fono', 'fono_2', 'ultima_mantencion_y', 'movil']].fillna(value=0)\n",
        "\n",
        "# Aquí se convierten las columnas 'fono', 'fono_2', 'ultima_mantencion_y' y 'movil' de flotantes a enteros y se eliminan los \".0\"\n",
        "df_merge[['fono', 'fono_2', 'ultima_mantencion_y', 'movil']] = df_merge[['fono', 'fono_2', 'ultima_mantencion_y', 'movil']].astype(int)\n",
        "\n",
        "df_merge[\"last_report\"] = pd.to_datetime(df_merge[\"last_report\"], format=\"%Y-%m-%d\")\n",
        "df_merge[\"fecha_reserva\"] = pd.to_datetime(df_merge[\"fecha_reserva\"], format=\"%Y-%m-%d\")\n",
        "df_merge[\"fecha_venta_x\"] = pd.to_datetime(df_merge[\"fecha_venta_x\"], format=\"%Y-%m-%d\")\n",
        "df_merge[\"ultima_fecha_y\"] = pd.to_datetime(df_merge[\"ultima_fecha_y\"], format=\"%Y-%m-%d\")\n",
        "\n",
        "\n",
        "df_merge.to_excel(\"OnstarAgenda.xlsx\", index=False)"
      ]
    }
  ],
  "metadata": {
    "colab": {
      "provenance": []
    },
    "kernelspec": {
      "display_name": "Python 3",
      "name": "python3"
    },
    "language_info": {
      "codemirror_mode": {
        "name": "ipython",
        "version": 3
      },
      "file_extension": ".py",
      "mimetype": "text/x-python",
      "name": "python",
      "nbconvert_exporter": "python",
      "pygments_lexer": "ipython3",
      "version": "3.10.9"
    }
  },
  "nbformat": 4,
  "nbformat_minor": 0
}

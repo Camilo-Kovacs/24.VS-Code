{
  "cells": [
    {
      "attachments": {},
      "cell_type": "markdown",
      "metadata": {
        "id": "h8chXjwl4x7P"
      },
      "source": [
        "### Normalizar Informacion VENTAS"
      ]
    },
    {
      "cell_type": "code",
      "execution_count": 4,
      "metadata": {
        "colab": {
          "base_uri": "https://localhost:8080/"
        },
        "id": "nBDz5evE4wxe",
        "outputId": "4b3a6d95-1242-4faa-c4b1-b43250b52560"
      },
      "outputs": [],
      "source": [
        "import pandas as pd\n",
        "import numpy as np\n",
        "import datetime\n",
        "import re\n",
        "from datetime import timedelta\n",
        "from datetime import date"
      ]
    },
    {
      "cell_type": "code",
      "execution_count": 5,
      "metadata": {
        "id": "zxXu11Z25S48"
      },
      "outputs": [],
      "source": [
        "archivo_excel = \"C:/Users/contr/OneDrive/Desarrollo Diario/18. Libromatico/LibromaticoALL.xlsx\"\n",
        "nombre_hoja = 'Libromatico'\n",
        "df = pd.read_excel(archivo_excel, sheet_name=nombre_hoja)"
      ]
    },
    {
      "cell_type": "code",
      "execution_count": 6,
      "metadata": {
        "id": "g0R-SL_0R8xO"
      },
      "outputs": [],
      "source": [
        "cols = [    \"oficina\",    \"fecha_venta\",    \"marca\",    \"modelo\",    \"año\",    \"kms\",    \"costo\",    \"venta\",    \"spread\",    \"utilidad\",    \"d_stock_f_venta\",    \"documento\",    \"nro\",    \"n_venta\",    \"n_credito_factura\",    \"cliente\",    \"vendedor\",    \"margen\",    \"cdo\",    \"vin\",    \"patente_usado\",    \"nro_cot\",    \"forma_de_pago\",    \"rut\",    \"digito\",    \"tipo_venta\",    \"categoria\",    \"marca_vpp\",    \"modelo_u\",    \"patente_nuevo\",    \"fecha_entrega\",    \"mpp\",    \"fono\",    \"fono_2\",    \"movil\",    \"email\",    \"vendedor_2\",    \"cliente_2\",    \"chasis\",    \"categoria_flota\",    \"email_2\",    \"fono_casa\",    \"fono_oficina\",    \"fono_celular\",    \"direccion\",    \"ciudad\",    \"comuna\",    \"bono_gm_psa_t_med_nissan_tcl\",    \"bono_gmac_t_med_distribuidor_maf\",    \"bono_dealer_finan_nissan\",    \"bono_compensacion\",    \"bono_finan_gm_finan_distribuidor\",    \"bono_flota_camiones_credi_nissan\",    \"bono_flota_otros\",    \"bono_dealer_fin\",    \"bono_chevy_plan_credi_distribuidor\",    \"bono_oculto\",    \"unidad_liquidada\",    \"agendado_en_taller\",    \"quien_paga_seguro\",    \"valor_seguro\",    \"nro_motor\",    \"color\"]\n",
        "df.columns = cols"
      ]
    },
    {
      "cell_type": "code",
      "execution_count": 7,
      "metadata": {
        "id": "8GlmCz61XYIN"
      },
      "outputs": [],
      "source": [
        "df['rut_cliente'] = df['rut'].astype(str) + '-' + df['digito'].astype(str)"
      ]
    },
    {
      "cell_type": "code",
      "execution_count": 8,
      "metadata": {
        "id": "U2FZDoV65QKP"
      },
      "outputs": [],
      "source": [
        "df['vin'] = df['vin'].str.strip().str.upper().replace('[^A-Z0-9]+', np.nan, regex=True)\n",
        "df['vin'] = df['vin'].str.replace(' ', '')\n",
        "df['vin'] = df['vin'].str.replace('O', '0')"
      ]
    },
    {
      "cell_type": "code",
      "execution_count": 9,
      "metadata": {
        "id": "vZyMzSZEP_9-"
      },
      "outputs": [],
      "source": [
        "df['oficina'] = df['oficina'].str.upper()\n",
        "def asignar_unidad_negocios(oficina):\n",
        "    if \"NISSAN\" in oficina:\n",
        "        return \"NISSAN\"\n",
        "    elif \"TOYOTA\" in oficina:\n",
        "        return \"TOYOTA\"\n",
        "    elif \"DYP\" in oficina:\n",
        "        return \"DYP\"\n",
        "    else:\n",
        "        return \"CHEVROLET\"\n",
        "\n",
        "df[\"unidad_negocios\"] = df[\"oficina\"].apply(asignar_unidad_negocios)"
      ]
    },
    {
      "cell_type": "code",
      "execution_count": 10,
      "metadata": {
        "id": "Y2UtzMpd6WgE"
      },
      "outputs": [],
      "source": [
        "df['patente_usado'] = df['patente_usado'].str[:6].str.strip().str.upper().replace('[^A-Z0-9]+', np.nan, regex=True)\n",
        "df['patente_nuevo'] = df['patente_nuevo'].str.replace(\"-\", \"\")"
      ]
    },
    {
      "cell_type": "code",
      "execution_count": 11,
      "metadata": {
        "id": "FCB8nqQp6kw8"
      },
      "outputs": [],
      "source": [
        "df.loc[:, 'patente_consolidado'] = np.where(df['patente_nuevo'].isnull(), df['patente_usado'], df['patente_nuevo'])"
      ]
    },
    {
      "cell_type": "code",
      "execution_count": 12,
      "metadata": {
        "id": "rIsJvUhDSY3u"
      },
      "outputs": [],
      "source": [
        "# Seleccionar columnas \"col1\" y \"col2\"\n",
        "\n",
        "df_new = df[['vin', 'patente_consolidado', 'cdo', 'unidad_negocios','oficina','fecha_venta', 'marca', 'modelo', 'año', 'kms', 'costo',\n",
        "       'venta', 'documento', 'nro','n_venta', 'n_credito_factura', 'cliente',  'rut_cliente','tipo_venta', 'categoria', 'modelo_u', \n",
        "       'fecha_entrega', 'mpp', 'cliente_2','movil', 'fono', 'fono_2', 'email',\n",
        "        'chasis', 'categoria_flota']]\n"
      ]
    },
    {
      "cell_type": "code",
      "execution_count": 13,
      "metadata": {
        "id": "jYDGRSLztPAz"
      },
      "outputs": [],
      "source": [
        "mask = (~df_new['documento'].str.contains(\"N.Credito\")) &  (~df_new['documento'].str.contains(\"N.Debito\"))\n",
        "df_new = df_new[mask]"
      ]
    },
    {
      "cell_type": "code",
      "execution_count": 14,
      "metadata": {
        "id": "ZZW0JFG3EuoE"
      },
      "outputs": [],
      "source": [
        "df_new.sort_values([\"fecha_venta\",\"nro\"], ascending=[False,False], inplace=True)\n",
        "df_ultimoRegistro = df_new.groupby(\"vin\").first().reset_index()\n"
      ]
    },
    {
      "cell_type": "code",
      "execution_count": 15,
      "metadata": {
        "id": "Sh9_ks0RE8w0"
      },
      "outputs": [],
      "source": [
        "df_ultimoRegistro = df_ultimoRegistro.astype(str)\n",
        "df_ultimoRegistro[\"fecha_venta\"] = pd.to_datetime(df_ultimoRegistro[\"fecha_venta\"], format=\"%Y-%m-%d\")\n",
        "df_ultimoRegistro['fecha_entrega'] = pd.to_datetime(df_ultimoRegistro['fecha_entrega'], format='%Y-%m-%d', errors='coerce')\n",
        "df_ultimoRegistro.to_excel(\"UltimoRegistroLibrmaticoALL.xlsx\", index=False)"
      ]
    }
  ],
  "metadata": {
    "colab": {
      "provenance": []
    },
    "kernelspec": {
      "display_name": "Python 3",
      "name": "python3"
    },
    "language_info": {
      "codemirror_mode": {
        "name": "ipython",
        "version": 3
      },
      "file_extension": ".py",
      "mimetype": "text/x-python",
      "name": "python",
      "nbconvert_exporter": "python",
      "pygments_lexer": "ipython3",
      "version": "3.10.9"
    }
  },
  "nbformat": 4,
  "nbformat_minor": 0
}

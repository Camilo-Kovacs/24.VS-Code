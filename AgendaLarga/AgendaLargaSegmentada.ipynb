{
  "cells": [
    {
      "attachments": {},
      "cell_type": "markdown",
      "metadata": {
        "id": "h8chXjwl4x7P"
      },
      "source": [
        "# Normalizar Columnas de la Agenda"
      ]
    },
    {
      "cell_type": "code",
      "execution_count": 1,
      "metadata": {
        "colab": {
          "base_uri": "https://localhost:8080/"
        },
        "id": "nBDz5evE4wxe",
        "outputId": "b255ea65-5a3b-4ed1-f05d-8adb41d6a5aa"
      },
      "outputs": [],
      "source": [
        "import pandas as pd\n",
        "import numpy as np\n",
        "import datetime\n",
        "import io\n",
        "import re"
      ]
    },
    {
      "cell_type": "code",
      "execution_count": 2,
      "metadata": {
        "id": "YSzmmCFgqU9H"
      },
      "outputs": [],
      "source": [
        "archivo_excel = \"C:/Users/contr/OneDrive/Desarrollo Diario/00. Matrices BDD/02. Agendamiento\\Repositorio 2 Años/Agenda2018.xlsx\"\n",
        "\n",
        "nombre_hoja = 'Agenda2018'\n",
        "\n",
        "# Lee el archivo de Excel en un DataFrame de pandas\n",
        "df = pd.read_excel(archivo_excel, sheet_name=nombre_hoja)"
      ]
    },
    {
      "attachments": {},
      "cell_type": "markdown",
      "metadata": {
        "id": "7nl-twI9DNuE"
      },
      "source": [
        "## Normalizar la Data (Agenda)"
      ]
    },
    {
      "cell_type": "code",
      "execution_count": 3,
      "metadata": {
        "id": "B7mSJ_WPARWo"
      },
      "outputs": [],
      "source": [
        "nuevos_nombres = [\"fecha_reserva\",\"marca\",\"trabajo_agenda\",\"patente\",\"box\",\"trabajo\",\"idr\",\"detalle\",\"submodelo\",\"teleoperador_7d\",\"oficina\",\"fecha_estado\",\"canal\",\"estado\",\"vigencia\",\"teleoperador_agendo\",\"rut_cliente\",\"nombre_cliente\",\"fono_casa_cliente\",\"fono_oficina_cliente\",\"fono_celular_cliente\",\"mail_cliente\",\"vin\",\"hora_inicio\",\"ano\",\"oficina_idr\",\"patente_idr\"]\n",
        "df.columns = nuevos_nombres"
      ]
    },
    {
      "cell_type": "code",
      "execution_count": 4,
      "metadata": {
        "id": "T4AaonMC_qGm"
      },
      "outputs": [],
      "source": [
        "df = df.astype(str)\n",
        "df[\"fecha_reserva\"] = pd.to_datetime(df[\"fecha_reserva\"], format=\"%Y-%m-%d\")\n",
        "df[\"fecha_estado\"] = pd.to_datetime(df[\"fecha_estado\"], format=\"%Y-%m-%d\")"
      ]
    },
    {
      "cell_type": "code",
      "execution_count": 5,
      "metadata": {
        "id": "QfHFI8V5dM2Z"
      },
      "outputs": [],
      "source": [
        "df['vin'] = df['vin'].str.replace('O', '0')"
      ]
    },
    {
      "cell_type": "code",
      "execution_count": 6,
      "metadata": {
        "id": "IUiPqO9q9o8b"
      },
      "outputs": [],
      "source": [
        "df['vin'] = df['vin'].astype(str)\n",
        "\n",
        "def clean_vin(vin):\n",
        "    if len(vin) != 17:\n",
        "        return ''\n",
        "    return vin\n",
        "\n",
        "df['vin'] = df['vin'].apply(clean_vin)"
      ]
    },
    {
      "cell_type": "code",
      "execution_count": 7,
      "metadata": {
        "id": "PGsXk2-9-W9M"
      },
      "outputs": [],
      "source": [
        "df['patente'] = df['patente'].astype(str)\n",
        "\n",
        "def clean_patente(patente):\n",
        "    if len(patente) != 7:\n",
        "        return ''\n",
        "    return patente\n",
        "\n",
        "df['patente'] = df['patente'].apply(clean_patente)"
      ]
    },
    {
      "cell_type": "code",
      "execution_count": 8,
      "metadata": {
        "id": "goN2Udf7DtJ8"
      },
      "outputs": [],
      "source": [
        "df.replace(\"\", np.nan, inplace=True)\n",
        "#df['vin'] = df.groupby('patente')['vin'].transform(lambda x: x.fillna(method='ffill').fillna(method='bfill'))"
      ]
    },
    {
      "cell_type": "code",
      "execution_count": 9,
      "metadata": {
        "id": "czaQiHacaDpD"
      },
      "outputs": [],
      "source": [
        "##ESTE ES\n",
        "#df.replace(\"\", np.nan, inplace=True)\n",
        "df['vin'] = df.sort_values('fecha_reserva', ascending=False).groupby('patente')['vin'].transform('first')"
      ]
    },
    {
      "cell_type": "code",
      "execution_count": 10,
      "metadata": {
        "id": "6ZMofWJGDp8R"
      },
      "outputs": [],
      "source": [
        "df['vin_patente'] = np.where(df['vin'] == \"\", df['patente'], df['vin'])"
      ]
    },
    {
      "cell_type": "code",
      "execution_count": 11,
      "metadata": {
        "id": "vZyMzSZEP_9-"
      },
      "outputs": [],
      "source": [
        "df['oficina'] = df['oficina'].str.upper()\n",
        "def asignar_unidad_negocios(oficina):\n",
        "    if \"NISSAN\" in oficina:\n",
        "        return \"NISSAN\"\n",
        "    elif \"TOYOTA\" in oficina:\n",
        "        return \"TOYOTA\"\n",
        "    elif \"DYP\" in oficina:\n",
        "        return \"DYP\"\n",
        "    else:\n",
        "        return \"CHEVROLET\"\n",
        "\n",
        "df[\"unidad_negocios\"] = df[\"oficina\"].apply(asignar_unidad_negocios)"
      ]
    },
    {
      "cell_type": "code",
      "execution_count": 12,
      "metadata": {
        "id": "iN08f9YDaEZp"
      },
      "outputs": [],
      "source": [
        "\n",
        "# Convertimos la columna 'fecha_reserva' a tipo datetime\n",
        "df['fecha_reserva'] = pd.to_datetime(df['fecha_reserva'], format='%Y-%m-%d')\n",
        "\n",
        "# Calculamos la fecha actual\n",
        "today = pd.Timestamp.today()\n",
        "\n",
        "# Agregamos una nueva columna 'ciclo'\n",
        "df['ciclo'] = pd.cut(\n",
        "    x=(today - df['fecha_reserva']).dt.days / 30,  # Calculamos la diferencia en meses\n",
        "    bins=[-float('inf'), 0, 9, 18, 27, float('inf')],  # Definimos los límites de cada ciclo\n",
        "    labels=['Ciclo 0', 'Primer Ciclo', 'Segundo Ciclo', 'Tercer Ciclo', 'Cuarto Ciclo']  # Definimos las etiquetas de cada ciclo\n",
        ")\n",
        "\n",
        "# Agregamos una condición para los casos en que la fecha de reserva es posterior a la fecha actual\n",
        "df.loc[df['fecha_reserva'] > today, 'ciclo'] = 'Ciclo 0'\n"
      ]
    },
    {
      "cell_type": "code",
      "execution_count": 13,
      "metadata": {
        "id": "ELoMfwvpdXMQ"
      },
      "outputs": [],
      "source": [
        "df.sort_values(\"fecha_reserva\", ascending=False, inplace=True)\n",
        "df_ultimoEstado = df.groupby(\"vin_patente\").first()\n",
        "df_ultimoEstado = df_ultimoEstado.astype(str)\n",
        "df_ultimoEstado[\"fecha_reserva\"] = pd.to_datetime(df_ultimoEstado[\"fecha_reserva\"], format=\"%Y-%m-%d\")\n",
        "df_ultimoEstado[\"fecha_estado\"] = pd.to_datetime(df_ultimoEstado[\"fecha_estado\"], format=\"%Y-%m-%d\")\n",
        "df_ultimoEstado.to_excel(\"UltimoEstadoAgendaLargaALL.xlsx\", index=False)"
      ]
    }
  ],
  "metadata": {
    "colab": {
      "provenance": []
    },
    "kernelspec": {
      "display_name": "Python 3",
      "name": "python3"
    },
    "language_info": {
      "codemirror_mode": {
        "name": "ipython",
        "version": 3
      },
      "file_extension": ".py",
      "mimetype": "text/x-python",
      "name": "python",
      "nbconvert_exporter": "python",
      "pygments_lexer": "ipython3",
      "version": "3.9.12"
    }
  },
  "nbformat": 4,
  "nbformat_minor": 0
}

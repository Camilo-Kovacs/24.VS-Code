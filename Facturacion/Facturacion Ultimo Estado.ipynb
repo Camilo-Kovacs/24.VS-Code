{
 "cells": [
  {
   "cell_type": "code",
   "execution_count": 10,
   "metadata": {},
   "outputs": [],
   "source": [
    "import pandas as pd\n",
    "import numpy as np\n",
    "import datetime\n",
    "import re\n",
    "from datetime import timedelta\n",
    "from datetime import date"
   ]
  },
  {
   "attachments": {},
   "cell_type": "markdown",
   "metadata": {},
   "source": [
    "### Carga de librerias y archivos"
   ]
  },
  {
   "cell_type": "code",
   "execution_count": 11,
   "metadata": {},
   "outputs": [
    {
     "data": {
      "text/plain": [
       "(565894, 38)"
      ]
     },
     "execution_count": 11,
     "metadata": {},
     "output_type": "execute_result"
    }
   ],
   "source": [
    "# Ruta al archivo Excel\n",
    "archivo_excel = \"C:/Users/contr/OneDrive/Desarrollo Diario/BI/Facturacion historica.xlsx\"\n",
    "\n",
    "# Nombre de la hoja\n",
    "nombre_hoja = 'Repositorio FST'\n",
    "\n",
    "# Lee el archivo de Excel en un DataFrame de pandas\n",
    "df = pd.read_excel(archivo_excel, sheet_name=nombre_hoja)\n",
    "df_= df.copy()\n",
    "df.shape"
   ]
  },
  {
   "attachments": {},
   "cell_type": "markdown",
   "metadata": {},
   "source": [
    "### PASOS PARA LA NORMALIZACION DE DATA"
   ]
  },
  {
   "cell_type": "code",
   "execution_count": 12,
   "metadata": {},
   "outputs": [],
   "source": [
    "nuevos_nombres = [\"oficina\",\"tipo_orden_trabajo\",\"numero_orden_trabajo\",\"tipo_trabajo\",\"numero_documento_venta\",\"fecha_venta\",\"numero_siniestro\",\"numero_orden\",\"numero_correlacion\",\"codigo_recepcionista\",\"agente_confirmo_7d\",\"fecha_apertura_orden_trabajo\",\"fecha_termino_orden_trabajo\",\"detalle_factura\",\"rut_cliente\",\"nombre_cliente\",\"patente\",\"marca\",\"modelo\",\"total_costo\",\"total_neto_mano_obra\",\"total_neto_repuestos\",\"total_neto_accesorios\",\"total_neto_lubricantes\",\"total_neto_materiales\",\"total_neto_otros\",\"total_neto_documento\",\"total_bruto_documento\",\"cantidad_litros_lubricantes\",\"forma_pago\",\"vin\",\"tipo_venta\",\"tipo_mantenimiento\",\"kilometros_vehiculo\",\"posee_mpp\",\"id_agente\",\"numero_presupuesto\", \"destinatario_kovcas\"]\n",
    "df.columns = nuevos_nombres \n",
    "#Se crea columna contiene obd y se pasa a mayusculas lo que es detalle_factura\n",
    "df= df.assign(total_ingresos = ((df['total_neto_accesorios'] + df['total_neto_lubricantes'] + df['total_neto_materiales'] + df['total_neto_repuestos']) - df['total_costo']) + df['total_neto_mano_obra'])\n",
    "df['total_facturacion'] = df['total_neto_accesorios'] + df['total_neto_lubricantes'] + df['total_neto_materiales'] + df['total_neto_repuestos'] + df['total_neto_mano_obra']\n",
    "df['vin'] = df['vin'].str.replace('O', '0')\n",
    "df['año_venta'] = pd.DatetimeIndex(df['fecha_venta']).year\n",
    "df['mes_venta'] = pd.DatetimeIndex(df['fecha_venta']).month\n",
    "df['detalle_factura'].fillna('N/A', inplace=True)\n",
    "\n",
    "df['contiene_obd'] = np.where(df['detalle_factura'].str.contains(\"OBD|ANTICLO\", na=False), 'SI', 'NO')\n",
    "#Se Agrega La Columna Nota Credito\n",
    "df['nota_credito'] = np.where(df['total_neto_repuestos'] >= 0, 'SIN NC', 'CON NC')\n",
    "df['oficina'] = df['oficina'].str.upper()\n",
    "def asignar_unidad_negocios(oficina):\n",
    "    if \"NISSAN\" in oficina:\n",
    "        return \"NISSAN\"\n",
    "    elif \"TOYOTA\" in oficina:\n",
    "        return \"TOYOTA\"\n",
    "    elif \"DYP\" in oficina:\n",
    "        return \"DYP\"\n",
    "    else:\n",
    "        return \"CHEVROLET\"\n",
    "\n",
    "df[\"unidad_negocios\"] = df[\"oficina\"].apply(asignar_unidad_negocios)\n",
    "#Agregar columna tipo cliente\n",
    "df['tipo_cliente'] = df['detalle_factura'].apply(lambda x: 'SEGURO' if 'SEGURO' in str(x) else 'GENERAL')\n",
    "#Cambiar tipificacion de acuerdo a condicion\n",
    "df.loc[df['posee_mpp'] == 'SI', 'tipo_trabajo'] = 'Mant. Prev.'\n",
    "# Se re tipifica la columna Tipo Trabajo\n",
    "df['tipo_trabajo'] = df['tipo_trabajo'].replace([\"Acc. u otros\", \"Accesorios\", \"Corr.,Acc. u otros\"], \"CORRECTIVA\")\n",
    "df['tipo_trabajo'] = df['tipo_trabajo'].replace([\"Mant. Prev.\"], \"PREVENTIVA\")\n",
    "df['tipo_trabajo'] = df['tipo_trabajo'].replace([\"CRÉDITO\"], \"CREDITO\")\n",
    "df['tipo_trabajo'] = df['tipo_trabajo'].replace([\"GARANTÍA\"], \"GARANTIA\")\n",
    "# Se reemplan todos los Valores en la columna tiene_mpp de SI a NO en caso que el registro tenga MPP \n",
    "df.loc[df['contiene_obd'] == 'SI', 'posee_mpp'] = 'NO' \n",
    "# Se reemplan todos los Valores en la columna tiene_mpp de SI a NO en caso que el registro tenga MPP \n",
    "# df.loc[df['contiene_obd'] == 'SI', 'posee_mpp'] = 'NO' \n",
    "\n",
    "# Se reemplan todos los Valores en la columna tiene_mpp de SI a NO en caso que el registro tenga MPP \n",
    "df.loc[df['contiene_obd'] == 'SI', 'tipo_trabajo'] = 'CORRECTIVA' \n",
    "#Se normaliza la data en la columna *Tipo Trabajo*\n",
    "df['tipo_trabajo'] = df['tipo_trabajo'].str.replace('Á', 'A').str.replace('É', 'E').str.replace('Í', 'I').str.replace('Ó', 'O').str.replace('Ú', 'U').str.upper()\n",
    "df['tipo_trabajo'] = df['tipo_trabajo'].replace(np.nan, 'sin_tipo_trabajo', regex=True)\n",
    "#Se normaliza la data en la columna *Tipo Trabajo*\n",
    "df['tipo_orden_trabajo'] = df['tipo_orden_trabajo'].str.replace('Á', 'A').str.replace('É', 'E').str.replace('Í', 'I').str.replace('Ó', 'O').str.replace('Ú', 'U').str.upper()\n",
    "df['tipo_orden_trabajo'] = df['tipo_orden_trabajo'].replace(np.nan, 'sin_orden_trabajo', regex=True)\n",
    "# Se normaliza la data en la columna Tipo Orden Trabajo\n",
    "df['tipo_orden_trabajo'].fillna('N/A', inplace=True)\n",
    "df['tipo_orden_trabajo'] = df['tipo_orden_trabajo'].str.replace('Á', 'A').str.replace('É', 'E').str.replace('Í', 'I').str.replace('Ó', 'O').str.replace('Ú', 'U').str.upper()\n",
    "df['tipo_orden_trabajo'] = df['tipo_orden_trabajo'].replace(np.nan, 'sin_tipo_orden_trabajo', regex=True)\n",
    "# Se genera una nueva columna con TIPO VENTA OT\n",
    "df[\"tipo_venta_ot\"] = np.where(df[\"tipo_venta\"].str.contains(re.compile(\"REPTOS|ANT.RPTO|CUP. MPP|RENTACAR|ANT.REPA|CHATARRA|GRUA|Deduc|CAFETERÍ|MISCELÁN\",re.IGNORECASE)), \"NO\", \"SI\")\n",
    "#Se Reemplaza los valores del tipo venta OT\n",
    "df['tipo_venta_ot'] = df['tipo_venta_ot'].replace({'SI': 'VENTAS CON OT', 'NO': 'OTRAS VENTAS'})\n",
    "#Se reemplaza los valores de la columna tipo Orden de Trabajo\n",
    "df['tipo_orden_trabajo'] = df['tipo_orden_trabajo'].replace({'SIN_TIPO_ORDEN_TRABAJO': 'OTRAS VENTAS'})\n",
    "df['tipo_orden_trabajo'].replace('SIN_ORDEN_TRABAJO', 'MISCELANEA', inplace=True)\n",
    "df['tipo_trabajo'].replace('sin_tipo_trabajo', 'MISCELANEA', inplace=True)\n",
    "\n",
    "df.loc[(df['contiene_obd'] == 'SI') & ((df['tipo_orden_trabajo'] == 'GARANTIA') | (df['tipo_orden_trabajo'] == 'PREENTREGA')), 'tipo_orden_trabajo'] = 'MECANICA' \n",
    "#Contar OT\n",
    "df['contar_ot'] = np.where(df['tipo_venta_ot'] == 'VENTAS CON OT', 1, 0)\n",
    "\n",
    "df['vin'] = df['vin'].astype(str)\n",
    "\n",
    "def clean_vin(vin):\n",
    "    if len(vin) != 17:\n",
    "        return ''\n",
    "    return vin\n",
    "\n",
    "df['vin'] = df['vin'].apply(clean_vin)\n",
    "df['patente'] = df['patente'].astype(str)\n",
    "\n",
    "def clean_patente(patente):\n",
    "    if len(patente) != 7:\n",
    "        return ''\n",
    "    return patente\n",
    "\n",
    "df['patente'] = df['patente'].apply(clean_patente)\n",
    "df['vin_patente'] = np.where(df['vin'] == \"\", df['patente'], df['vin'])\n",
    "# df['numero_siniestro'].replace(0, np.nan, inplace=True)"
   ]
  },
  {
   "cell_type": "code",
   "execution_count": null,
   "metadata": {},
   "outputs": [],
   "source": []
  },
  {
   "attachments": {},
   "cell_type": "markdown",
   "metadata": {},
   "source": [
    "### OBTENER ANALISIS SI TUVO OBDII"
   ]
  },
  {
   "cell_type": "code",
   "execution_count": 13,
   "metadata": {},
   "outputs": [],
   "source": [
    "df['contiene_obd'] = df['contiene_obd'].map({'SI': 1, 'NO': 0})\n",
    "\n",
    "df['tuvo_obd'] = np.where(df.groupby('vin')['contiene_obd'].transform('sum') > 0, 'SI TUVO', 'NO TUVO')\n",
    "\n",
    "df_obd_nissan = df[df['unidad_negocios'] == 'NISSAN']\n",
    "\n",
    "df_obd_nissan.to_excel(\"df_obd_nissan.xlsx\", index=False)"
   ]
  },
  {
   "attachments": {},
   "cell_type": "markdown",
   "metadata": {},
   "source": [
    "### OBTENER COLUMNA CON LA ULTIMA MANTENCION REALIZADA"
   ]
  },
  {
   "cell_type": "code",
   "execution_count": 14,
   "metadata": {},
   "outputs": [],
   "source": [
    "df['ultima_mantencion'] = np.nan\n",
    "df['ultima_fecha'] = np.nan\n",
    "\n",
    "mask = df['tipo_mantenimiento'] != 0\n",
    "grouped = df[mask].groupby('vin')\n",
    "\n",
    "\n",
    "results = []\n",
    "for name, group in grouped:\n",
    "    max_date = group['fecha_venta'].idxmax()\n",
    "    row = {\n",
    "        'vin': name,\n",
    "        'ultima_mantencion': group['tipo_mantenimiento'].max(),\n",
    "        'ultima_fecha': group['fecha_venta'].max()\n",
    "    }\n",
    "    results.append(row)\n",
    "\n",
    "results_df = pd.DataFrame(results)\n",
    "df = df.merge(results_df, on='vin', how='left')\n"
   ]
  },
  {
   "attachments": {},
   "cell_type": "markdown",
   "metadata": {},
   "source": [
    "### CONSULTAS PARA EXTRAER AIRLIFE - TAKATA"
   ]
  },
  {
   "cell_type": "code",
   "execution_count": 15,
   "metadata": {},
   "outputs": [],
   "source": [
    "df_airlife = df.copy()\n",
    "df_airlife['contiene_airlife'] = np.where(df_airlife['detalle_factura'].str.contains(\"TAKATA|AIRBAG|AIR BAG|AIR-BAG|INFLADOR|AIR  BAG|BOLSA DE AIRE\", na=False), 'SI', 'NO')\n",
    "#df_airlife.to_excel(\"2022_airlife.xlsx\", index=False)\n",
    "df_filtrado = df_airlife.query(\"contiene_airlife == 'SI'\")\n",
    "df_filtrado.to_excel(\"UltimoEstadoSSTT_airlife.xlsx\", index=False)"
   ]
  },
  {
   "attachments": {},
   "cell_type": "markdown",
   "metadata": {},
   "source": [
    "### ULTIMO ESTADO BBDD SSTT"
   ]
  },
  {
   "cell_type": "code",
   "execution_count": 16,
   "metadata": {},
   "outputs": [],
   "source": [
    "# ACA SE REALIZA LA AGRUPACION Y LA SEGEMNTACION \n",
    "\n",
    "df.sort_values([\"fecha_venta\",\"numero_orden_trabajo\"], ascending=[False,False], inplace=True)\n",
    "df_ultimoEstado = df.groupby(\"vin\").first().reset_index()\n",
    "df_ultimoEstado = df_ultimoEstado.astype(str)\n",
    "df_ultimoEstado[\"fecha_venta\"] = pd.to_datetime(df_ultimoEstado[\"fecha_venta\"], format=\"%Y-%m-%d\")\n",
    "#df_ultimoEstado[\"fecha_estado\"] = pd.to_datetime(df_ultimoEstado[\"fecha_estado\"], format=\"%Y-%m-%d\")\n",
    "df_ultimoEstado.to_excel(\"UltimoEstadoSSTT.xlsx\", index=False)"
   ]
  }
 ],
 "metadata": {
  "kernelspec": {
   "display_name": "Python 3",
   "language": "python",
   "name": "python3"
  },
  "language_info": {
   "codemirror_mode": {
    "name": "ipython",
    "version": 3
   },
   "file_extension": ".py",
   "mimetype": "text/x-python",
   "name": "python",
   "nbconvert_exporter": "python",
   "pygments_lexer": "ipython3",
   "version": "3.9.12"
  },
  "orig_nbformat": 4
 },
 "nbformat": 4,
 "nbformat_minor": 2
}
